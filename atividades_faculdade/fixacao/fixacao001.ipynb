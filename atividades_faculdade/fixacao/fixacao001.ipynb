{
 "cells": [
  {
   "cell_type": "markdown",
   "metadata": {},
   "source": [
    "# EXERCÍCIOS DE FIXAÇÃO\n",
    "\n",
    "1. Escreva um programa que receba uma lista de de 10 inteiros via teclado, em seguida o programa deve solicitar um número e informar se o número também está na lista ou não.\n"
   ]
  },
  {
   "cell_type": "code",
   "execution_count": null,
   "metadata": {},
   "outputs": [],
   "source": [
    "numeros = []\n",
    "\n",
    "\n",
    "for numero in numeros:\n",
    "    numero = int(input(f'Informe o {numero}º número: '))\n",
    "    numeros.append(numero)"
   ]
  }
 ],
 "metadata": {
  "kernelspec": {
   "display_name": "Python 3",
   "language": "python",
   "name": "python3"
  },
  "language_info": {
   "name": "python",
   "version": "3.12.6"
  }
 },
 "nbformat": 4,
 "nbformat_minor": 2
}
