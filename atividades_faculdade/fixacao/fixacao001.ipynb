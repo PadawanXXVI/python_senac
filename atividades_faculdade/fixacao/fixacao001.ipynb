{
 "cells": [
  {
   "cell_type": "markdown",
   "metadata": {},
   "source": [
    "# EXERCÍCIOS DE FIXAÇÃO\n",
    "\n",
    "1. Escreva um programa que receba uma lista de de 10 inteiros via teclado, em seguida o programa deve solicitar um número e informar se o número também está na lista ou não.\n"
   ]
  },
  {
   "cell_type": "code",
   "execution_count": 7,
   "metadata": {},
   "outputs": [],
   "source": [
    "numeros = []\n",
    "\n",
    "for i in numeros:\n",
    "    numero = int(input(f'Informe o {numero}º número: '))\n",
    "    numeros.append(numero)\n",
    "\n"
   ]
  }
 ],
 "metadata": {
  "kernelspec": {
   "display_name": "Python 3",
   "language": "python",
   "name": "python3"
  },
  "language_info": {
   "codemirror_mode": {
    "name": "ipython",
    "version": 3
   },
   "file_extension": ".py",
   "mimetype": "text/x-python",
   "name": "python",
   "nbconvert_exporter": "python",
   "pygments_lexer": "ipython3",
   "version": "3.12.6"
  }
 },
 "nbformat": 4,
 "nbformat_minor": 2
}
