{
 "cells": [
  {
   "cell_type": "markdown",
   "metadata": {},
   "source": [
    "# SEGUNDA LISTA DE EXERCÍCIOS\n",
    "\n",
    "1. Crie uma função para calcular as quatro operações matemáticas (soma, subtração, divisão e multiplicação) sendo fornecidos 2 números e informando o resultado de cada operação."
   ]
  },
  {
   "cell_type": "code",
   "execution_count": 18,
   "metadata": {},
   "outputs": [
    {
     "name": "stdout",
     "output_type": "stream",
     "text": [
      "A soma é: 48\n",
      "A subtração é: 32\n",
      "A multiplicação é 320\n",
      "A divisão é: 5.0\n"
     ]
    }
   ],
   "source": [
    "def operacoes(numero1, numero2):\n",
    "    soma= numero1 + numero2\n",
    "    subt = numero1 - numero2\n",
    "    mult = numero1 * numero2\n",
    "    if numero2 != 0:\n",
    "        divi = numero1 / numero2\n",
    "    else:\n",
    "        divi = 'Divisão por zero não permitida'\n",
    "\n",
    "    return soma, subt, mult, divi\n",
    "\n",
    "\n",
    "numero1 = int(input(\"Informe o primeiro número: \"))\n",
    "numero2 = int(input(\"Informe o segundo número: \"))\n",
    "\n",
    "print(\n",
    "    f'A soma é: {operacoes(numero1, numero2)[0]}\\n'\n",
    "    f'A subtração é: {operacoes(numero1, numero2)[1]}\\n'\n",
    "    f'A multiplicação é {operacoes(numero1, numero2)[2]}\\n'\n",
    "    f'A divisão é: {operacoes(numero1,numero2)[3]}'\n",
    ")\n"
   ]
  },
  {
   "cell_type": "markdown",
   "metadata": {},
   "source": [
    "2. Criar uma função para retornar se um número é par ou ímpar\n"
   ]
  },
  {
   "cell_type": "code",
   "execution_count": 12,
   "metadata": {},
   "outputs": [
    {
     "name": "stdout",
     "output_type": "stream",
     "text": [
      "O número 455 é ímpar.\n"
     ]
    }
   ],
   "source": [
    "def paridade(numero):\n",
    "    if numero % 2 == 0:\n",
    "        print(f'O número {numero} é par')\n",
    "    else:\n",
    "        print(f'O número {numero} é ímpar.')\n",
    "\n",
    "numero = int(input(\"Digite um número: \"))\n",
    "\n",
    "paridade(numero)\n"
   ]
  },
  {
   "cell_type": "markdown",
   "metadata": {},
   "source": [
    "3. Faça um programa que tenha uma função chamada maior, que receba vários parâmetros com valores inteiros. Seu programa tem que analisar todos os valores e dizer qual deles é maior.\n"
   ]
  },
  {
   "cell_type": "code",
   "execution_count": 14,
   "metadata": {},
   "outputs": [
    {
     "name": "stdout",
     "output_type": "stream",
     "text": [
      "O maior número fornecido foi: 21\n"
     ]
    }
   ],
   "source": [
    "def maior(*numeros):\n",
    "    if len(numeros) == 0:\n",
    "        print(\"Nenhum número foi fornecido.\")\n",
    "        return\n",
    "    maior_numero = max(numeros)\n",
    "    print(f\"O maior número fornecido foi: {maior_numero}\")\n",
    "\n",
    "numeros = input(\"Digite os números separados por espaço: \").split()\n",
    "numeros = [int(numero) for numero in numeros]\n",
    "\n",
    "maior(*numeros)\n"
   ]
  },
  {
   "cell_type": "markdown",
   "metadata": {},
   "source": [
    "4. Faça um programa que tenha uma função chamada area(), que receba as dimensões de um terreno retangular (largura e comprimento) e mostre a área do terreno.\n"
   ]
  },
  {
   "cell_type": "code",
   "execution_count": 21,
   "metadata": {},
   "outputs": [
    {
     "name": "stdout",
     "output_type": "stream",
     "text": [
      "A área do terreno é 2475.00m²\n"
     ]
    }
   ],
   "source": [
    "def area(largura, comprimento):\n",
    "    area_terreno = largura * comprimento\n",
    "    print(f'A área do terreno é {area_terreno:.2f}m²')\n",
    "\n",
    "largura = float(input(\"Informe a largura em metros: \"))\n",
    "comprimento = float(input(\"Informe o comprimento em metros: \"))\n",
    "\n",
    "area(largura, comprimento)\n",
    "    \n",
    "    "
   ]
  },
  {
   "cell_type": "markdown",
   "metadata": {},
   "source": [
    "5. Faça uma função que informe a quantidade de dígitos de um determinado número inteiro informado pelo usuário.\n"
   ]
  },
  {
   "cell_type": "code",
   "execution_count": 3,
   "metadata": {},
   "outputs": [
    {
     "name": "stdout",
     "output_type": "stream",
     "text": [
      "O número 45656841 tem 8 dígitos\n"
     ]
    }
   ],
   "source": [
    "def tamanho(inteiro):\n",
    "    return len(str(inteiro))\n",
    "\n",
    "inteiro = int(input(\"Informe um número inteiro: \"))\n",
    "\n",
    "print(f'O número {inteiro} tem {tamanho(inteiro)} dígitos')\n"
   ]
  },
  {
   "cell_type": "markdown",
   "metadata": {},
   "source": [
    "6. Faça um função chamada somaImposto. A função possui dois parâmetros:\n",
    "\n",
    "a) taxaImposto, que é a porcentagem de imposto sobre vendas.\n",
    "\n",
    "b) custo, que é o custo de um item antes do imposto.\n",
    "\n",
    "A função retorna o valor de custo alterado para incluir o imposto sobre vendas.\n"
   ]
  },
  {
   "cell_type": "code",
   "execution_count": 11,
   "metadata": {},
   "outputs": [
    {
     "name": "stdout",
     "output_type": "stream",
     "text": [
      "Custo com imposto: R$1150.00\n"
     ]
    }
   ],
   "source": [
    "def somaImposto(taxaImposto, custo):\n",
    "    valor_imposto = custo * (taxaImposto / 100)\n",
    "    custo_com_imposto = custo + valor_imposto\n",
    "    return custo_com_imposto\n",
    "\n",
    "\n",
    "taxa = float(input('Informe o valor da taxa em %: '))\n",
    "custo_inicial = float(input('Informe o valor do custo inicial: '))\n",
    "custo_final = somaImposto(taxa, custo_inicial)\n",
    "print(f\"Custo com imposto: R${custo_final:.2f}\")\n"
   ]
  },
  {
   "cell_type": "markdown",
   "metadata": {},
   "source": [
    "7. Cruiar uma função para gerar uma matriz 10x10 (array) de forma aleatória.\n"
   ]
  },
  {
   "cell_type": "code",
   "execution_count": 15,
   "metadata": {},
   "outputs": [
    {
     "name": "stdout",
     "output_type": "stream",
     "text": [
      "[[21 72 31 29 66 31 94 26 52 50]\n",
      " [97 56 10 58 93 23 54 63 38 23]\n",
      " [75 74 48 16 66 52  1 94  0 99]\n",
      " [51  2 76 10 32 78 23 67 23 31]\n",
      " [83 91 30 44 29 20 47 87 64 98]\n",
      " [53 23  8 76 67 16 47 60 69 66]\n",
      " [46 15 53 58 59 10 99  9 14 99]\n",
      " [68 24 30 19 18 15 64  8 15 69]\n",
      " [35 85  8  4 34 56 75 64 13 99]\n",
      " [38 97 29 44 31 87 62 68 44 69]]\n"
     ]
    }
   ],
   "source": [
    "import numpy as np\n",
    "\n",
    "def gerar_matriz_aleatoria():\n",
    "    matriz = np.random.randint(0, 100, size=(10, 10))\n",
    "    return matriz\n",
    "\n",
    "matriz = gerar_matriz_aleatoria()\n",
    "print(matriz)\n"
   ]
  },
  {
   "cell_type": "markdown",
   "metadata": {},
   "source": [
    "8. Faça um programa que tenha uma lista pronta chamada números e duas funções chamadas sorteia() e somaPar(). A primeira função vai sortear 5 números da lista e vai colocá-los em outra lista e a segunda função vai mostrar a soma entre todos os valores pares sorteados pela função anterior. (Utilize o import Random e a função sorteados ficará: sorteados = random.sample(lista, 5)).\n"
   ]
  },
  {
   "cell_type": "code",
   "execution_count": 6,
   "metadata": {},
   "outputs": [
    {
     "name": "stdout",
     "output_type": "stream",
     "text": [
      "Números sorteados: [4, 8, 6, 5, 7]\n",
      "Soma dos números pares sorteados: 18\n"
     ]
    }
   ],
   "source": [
    "import random\n",
    "\n",
    "numeros = [1, 2, 3, 4, 5, 6, 7, 8, 9, 10]\n",
    "\n",
    "def sorteia():\n",
    "    sorteados = random.sample(numeros, 5)\n",
    "    return sorteados\n",
    "\n",
    "def somaPar(lista):\n",
    "    soma = sum(num for num in lista if num % 2 == 0)\n",
    "    return soma\n",
    "\n",
    "numeros_sorteados = sorteia()\n",
    "print(f\"Números sorteados: {numeros_sorteados}\")\n",
    "\n",
    "soma_pares = somaPar(numeros_sorteados)\n",
    "print(f\"Soma dos números pares sorteados: {soma_pares}\")\n"
   ]
  }
 ],
 "metadata": {
  "kernelspec": {
   "display_name": "Python 3",
   "language": "python",
   "name": "python3"
  },
  "language_info": {
   "codemirror_mode": {
    "name": "ipython",
    "version": 3
   },
   "file_extension": ".py",
   "mimetype": "text/x-python",
   "name": "python",
   "nbconvert_exporter": "python",
   "pygments_lexer": "ipython3",
   "version": "3.12.6"
  }
 },
 "nbformat": 4,
 "nbformat_minor": 2
}
