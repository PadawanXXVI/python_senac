{
 "cells": [
  {
   "cell_type": "markdown",
   "metadata": {},
   "source": [
    "## Lista de exercícios 1"
   ]
  },
  {
   "cell_type": "markdown",
   "metadata": {},
   "source": [
    "1. Faça um programa que receba dois números e ao final mostre a soma, subtração, \n",
    "multiplicação e a divisão dos números lidos. "
   ]
  },
  {
   "cell_type": "code",
   "execution_count": null,
   "metadata": {},
   "outputs": [
    {
     "ename": "",
     "evalue": "",
     "output_type": "error",
     "traceback": [
      "\u001b[1;31mA execução de células com 'Python 3.12.5' requer o pacote ipykernel.\n",
      "\u001b[1;31mExecute o seguinte comando para instalar \"ipykernel\" no ambiente do Python. \n",
      "\u001b[1;31mComando: \"c:/Users/anderson.guimaraes/AppData/Local/Microsoft/WindowsApps/python3.12.exe -m pip install ipykernel -U --user --force-reinstall\""
     ]
    }
   ],
   "source": [
    "numero1 = int(input('Iinforme o 1º número:\\n'))\n",
    "numero2 = int(input('Iinforme o 2º número:\\n'))\n",
    "print(f'A soma dos números é {numero1 + numero2}')\n",
    "print(f'A subtração dos números é {numero1 - numero2}')\n",
    "print(f'A multiplicação dos números é {numero1 * numero2}')\n",
    "print(f'A divisão dos números é {numero1 / numero2:.2f}')\n"
   ]
  },
  {
   "cell_type": "markdown",
   "metadata": {},
   "source": [
    "2. A Loja Mamão com Açúcar está vendendo seus produtos com 5 prestações sem juros. \n",
    "Faça um programa que receba um valor de uma compra e mostre o valor das prestações. "
   ]
  },
  {
   "cell_type": "code",
   "execution_count": null,
   "metadata": {},
   "outputs": [],
   "source": [
    "valor = float(input('Informe o valor do produto:\\n'))\n",
    "print(f'O valor de cada uma das 5 prestações é: {valor/5}')"
   ]
  },
  {
   "cell_type": "markdown",
   "metadata": {},
   "source": [
    "3. Crie um programa para informar o valor de venda de um produto, calcular um desconto \n",
    "de 15% e imprimir na tela o valor com o referido desconto."
   ]
  },
  {
   "cell_type": "code",
   "execution_count": null,
   "metadata": {},
   "outputs": [],
   "source": [
    "valor_venda = float(input('Informe o valor do produto'))\n",
    "valor_desconto = valor_venda * 0.85\n",
    "\n",
    "print(f'Parabéns! Você recebeu 15% de desconto e vai pagar R$ {valor_desconto}')"
   ]
  },
  {
   "cell_type": "markdown",
   "metadata": {},
   "source": [
    "4. Escrever um programa para determinar o consumo médio de um automóvel sendo \n",
    "fornecidos a distância total percorrida pelo automóvel e o total de combustível gasto."
   ]
  },
  {
   "cell_type": "code",
   "execution_count": null,
   "metadata": {},
   "outputs": [],
   "source": [
    "distancia = float(input('Informe a distância percorrida em km:\\n'))\n",
    "combustivel = float(input('Informe o total de combustível gasto:\\n'))\n",
    "\n",
    "print(f'O valor de consumo médio do automóvel é {distancia/combustivel} Km/L')"
   ]
  },
  {
   "cell_type": "markdown",
   "metadata": {},
   "source": [
    "5. Escrever um programa que leia de um aluno, o nome e as notas das três provas que ele \n",
    "obteve no semestre. No final informar o nome do aluno e a sua média (aritmética)."
   ]
  },
  {
   "cell_type": "code",
   "execution_count": null,
   "metadata": {},
   "outputs": [],
   "source": [
    "aluno = input('Informe o nome do aluno')\n",
    "notas = []\n",
    "\n",
    "for i in range(3):\n",
    "    nota = float(input(f'Informe o valor da {i+1}ª nota:\\n'))\n",
    "    notas.append(nota)\n",
    "\n",
    "media = sum(notas) / len(notas)\n",
    "print(f'O aluno {aluno} tirou média {media:.2f}')\n",
    "\n"
   ]
  },
  {
   "cell_type": "markdown",
   "metadata": {},
   "source": [
    "6. Ler uma temperatura em graus Celsius e apresenta-la convertida em graus Fahrenheit. \n",
    "A fórmula de conversão é: F<-(9*C+160) / 5, sendo F a temperatura em Fahrenheit e C a \n",
    "temperatura em Celsius."
   ]
  },
  {
   "cell_type": "code",
   "execution_count": null,
   "metadata": {},
   "outputs": [],
   "source": [
    "celsius = float(input('Informe a temperatura em graus Celsius:\\n'))\n",
    "fahrenheit  = (9 * celsius + 160) / 5\n",
    "print(f'O valor da temperatura Celsius {celsius} em Fahrenheit é {fahrenheit}')"
   ]
  },
  {
   "cell_type": "markdown",
   "metadata": {},
   "source": [
    "7. Faça um programa que receba um valor que foi depositado e exiba o valor com \n",
    "rendimento simples após 3 meses. Considere fixo o juro da poupança em 0,70% a. m."
   ]
  },
  {
   "cell_type": "code",
   "execution_count": null,
   "metadata": {},
   "outputs": [],
   "source": [
    "capital_inicial = float(input('Informe o valor da aplicação'))\n",
    "taxa = 0.007\n",
    "tempo = 3\n",
    "rendimentos = capital_inicial +  (taxa * tempo * capital_inicial)\n",
    "\n",
    "print(f'Após três meses de aplicação com 0,70% ao mês, o valor com rendimento é R$ {rendimentos}')"
   ]
  },
  {
   "cell_type": "markdown",
   "metadata": {},
   "source": [
    "8. O custo ao consumidor de um carro novo é a soma do custo de fábrica com a percentagem do distribuidor e dos impostos (aplicados, primeiro os impostos sobre o custo de fábrica, e depois a percentagem do distribuidor sobre o resultado). Supondo que a percentagem do distribuidor seja de 28% e os impostos 45%, escrever um programa que leia o custo de fábrica de um carro e informe o custo ao consumidor do mesmo. "
   ]
  },
  {
   "cell_type": "code",
   "execution_count": null,
   "metadata": {},
   "outputs": [],
   "source": [
    "custo_fabrica = float(input('Informe o custo de fábrica do veículo: R$ \\n'))\n",
    "custo_imposto = custo_fabrica * 1.45\n",
    "custo_distribuidor = custo_imposto * 1.28\n",
    "print(f'''\n",
    "      O custo de fábrica é: R$ {custo_fabrica:.2f}\n",
    "      Sabendo que o custo para o revendedor, aplicado os impostos, é: R$ {custo_imposto:.2f}\n",
    "      O valor total do veículo, com a porcentagem do distribuidor é: R$ {custo_distribuidor:.2f}''')\n"
   ]
  },
  {
   "cell_type": "markdown",
   "metadata": {},
   "source": [
    "9. Tendo como entrada o total vendido por um funcionário no mês de agosto, faça um programa que mostre a sua comissão e salário bruto neste mês, sabendo que o seu salário base é R$1.200,00 e sua comissão é de 10% sobre o total vendido."
   ]
  },
  {
   "cell_type": "code",
   "execution_count": null,
   "metadata": {},
   "outputs": [],
   "source": [
    "total_vendido = float(input('Informe o total vendido no mês:\\n R$ '))\n",
    "salario_base = 1200\n",
    "comissao = total_vendido * 0.10\n",
    "bruto = salario_base + comissao\n",
    "print(f'''\n",
    "    A comissão no mês do vendedor é: R$ {comissao:.2f}\n",
    "    O valor do salário bruto do vendedor é: R$ {bruto:.2f}\n",
    "''')"
   ]
  },
  {
   "cell_type": "markdown",
   "metadata": {},
   "source": [
    "10.  Leia dois valores A e B e depois coloque em A o valor lido em B e em B o valor lido em A e mostre os novos valores de A e B."
   ]
  },
  {
   "cell_type": "code",
   "execution_count": null,
   "metadata": {},
   "outputs": [],
   "source": [
    "a = int(input('Informe o valor de A:\\n'))\n",
    "b = int(input('Informe o valor de B:\\n'))\n",
    "\n",
    "x = a\n",
    "a = b\n",
    "b = x\n",
    "\n",
    "print(f'O valor de A é {a} e o valor de B é {b}')"
   ]
  }
 ],
 "metadata": {
  "kernelspec": {
   "display_name": "Python 3",
   "language": "python",
   "name": "python3"
  },
  "language_info": {
   "codemirror_mode": {
    "name": "ipython",
    "version": 3
   },
   "file_extension": ".py",
   "mimetype": "text/x-python",
   "name": "python",
   "nbconvert_exporter": "python",
   "pygments_lexer": "ipython3",
   "version": "3.12.5"
  }
 },
 "nbformat": 4,
 "nbformat_minor": 2
}
