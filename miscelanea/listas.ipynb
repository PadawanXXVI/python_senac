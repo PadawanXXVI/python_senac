{
 "cells": [
  {
   "cell_type": "markdown",
   "metadata": {},
   "source": [
    "# Listas em Python"
   ]
  },
  {
   "cell_type": "markdown",
   "metadata": {},
   "source": [
    "## Definição"
   ]
  },
  {
   "cell_type": "markdown",
   "metadata": {},
   "source": [
    "Uma Lista (list) em Python, nada mais é que uma coleção ordenada de valores, separados por vírgula e dentro de colchetes [ ].\n",
    "\n",
    "Elas são utilizadas para armazenar diversos itens em uma única **variável**"
   ]
  },
  {
   "cell_type": "markdown",
   "metadata": {},
   "source": [
    "### Exemplo de lista"
   ]
  },
  {
   "cell_type": "code",
   "execution_count": null,
   "metadata": {},
   "outputs": [],
   "source": [
    "lista = ['Faculdade', 'Senac', 'de', 'Tecnologia']\n",
    "print(lista)"
   ]
  },
  {
   "cell_type": "markdown",
   "metadata": {},
   "source": [
    "## Criação de listas\n",
    "\n",
    "Existem várias maneiras de se criar uma lista.<br>\n",
    "A maneira mais simples é envolver os elementos da lista por colchetes, por exemplo:"
   ]
  },
  {
   "cell_type": "code",
   "execution_count": null,
   "metadata": {},
   "outputs": [],
   "source": [
    "nome = ['Anderson']"
   ]
  },
  {
   "cell_type": "markdown",
   "metadata": {},
   "source": [
    "Também podemos criar uma lista vazia"
   ]
  },
  {
   "cell_type": "code",
   "execution_count": null,
   "metadata": {},
   "outputs": [],
   "source": [
    "lista_vazia = [] # sem valores dentro da lsita"
   ]
  },
  {
   "cell_type": "markdown",
   "metadata": {},
   "source": [
    "Podemos criar lista com diversos valores"
   ]
  },
  {
   "cell_type": "code",
   "execution_count": null,
   "metadata": {},
   "outputs": [],
   "source": [
    "lista_mista = ['Anderson', 25, 1.74] # lista com string, int e float"
   ]
  },
  {
   "cell_type": "markdown",
   "metadata": {},
   "source": [
    "Também podemos utilizar a função list do próprio Python (built-in function)"
   ]
  },
  {
   "cell_type": "code",
   "execution_count": null,
   "metadata": {},
   "outputs": [],
   "source": [
    "lista2 = list(['Anderson']) # imprtante por os [ ]\n"
   ]
  },
  {
   "cell_type": "markdown",
   "metadata": {},
   "source": [
    "Podemos ainda criar listas através da função range(), dessa forma"
   ]
  },
  {
   "cell_type": "code",
   "execution_count": null,
   "metadata": {},
   "outputs": [],
   "source": [
    "list(range(10))"
   ]
  },
  {
   "cell_type": "markdown",
   "metadata": {},
   "source": [
    "O que resultará em"
   ]
  },
  {
   "cell_type": "code",
   "execution_count": null,
   "metadata": {},
   "outputs": [],
   "source": [
    "[0, 1, 2, 3, 4, 5, 6, 7, 8, 9]"
   ]
  },
  {
   "cell_type": "markdown",
   "metadata": {},
   "source": [
    "## Acessando dados da lista\n",
    "\n",
    "Todos os itens de uma lista são indexados, ou seja para cada item da lista um índice é atribuído da seguinte forma: lista[indice]\n",
    "\n",
    "### Exemplo"
   ]
  },
  {
   "cell_type": "code",
   "execution_count": 3,
   "metadata": {},
   "outputs": [],
   "source": [
    "\n",
    "frutas = ['Maçã', 'Banana', 'Jaca', 'Melão', 'Abacaxi']"
   ]
  },
  {
   "cell_type": "markdown",
   "metadata": {},
   "source": [
    "| VALORES | Maçã | Banana | Jaca | Melão | Abacaxi |\n",
    "| - | :-: | :-: | :-: | :-: | :-: |\n",
    "| ÍNDICE | 0 | 1 | 2 | 3 | 4 |"
   ]
  },
  {
   "cell_type": "markdown",
   "metadata": {},
   "source": [
    "Observação: **em _Python_, os índices são iniciados em zero.**\n",
    "\n",
    "Ou seja, podemos acessar o primeiro item da lista com o índice 0?\n",
    "\n",
    "### Exemplo"
   ]
  },
  {
   "cell_type": "code",
   "execution_count": 4,
   "metadata": {},
   "outputs": [
    {
     "name": "stdout",
     "output_type": "stream",
     "text": [
      "Maçã\n"
     ]
    }
   ],
   "source": [
    "print(frutas[0])"
   ]
  },
  {
   "cell_type": "markdown",
   "metadata": {},
   "source": [
    "### Indexação Negativa\n",
    "\n",
    "Caso você queira acessar o último item...\n",
    "\n",
    "### Exemplo\n",
    "\n",
    "| VALORES | Mação | Banana | Jaca | Melão | Abacaxi |\n",
    "| - | :-: | :-: | :-: | :-: | :-: |\n",
    "|ÍNDICE | -5 | -4 | -3 | -2 | -1 |\n",
    "\n",
    "Dessa forma, para acessar o último item da lista, teremos:"
   ]
  },
  {
   "cell_type": "code",
   "execution_count": 5,
   "metadata": {},
   "outputs": [
    {
     "name": "stdout",
     "output_type": "stream",
     "text": [
      "Abacaxi\n"
     ]
    }
   ],
   "source": [
    "print(frutas[-1])\n"
   ]
  },
  {
   "cell_type": "markdown",
   "metadata": {},
   "source": [
    "## Lista dentro de lista\n",
    "\n",
    "Suponha que exista uma lista dentro de uma lista, assim:"
   ]
  },
  {
   "cell_type": "code",
   "execution_count": 7,
   "metadata": {},
   "outputs": [],
   "source": [
    "lista = ['item1', ['Faculdade', 'Senac'], 'item3']\n"
   ]
  },
  {
   "cell_type": "markdown",
   "metadata": {},
   "source": [
    "Como podemos acessar o primeiro índice do item que é uma lista?\n",
    "\n",
    "A resposta é simples, basta selecionar a posição em que se localiza a lista para ter acesso a ela, assim:"
   ]
  },
  {
   "cell_type": "code",
   "execution_count": 10,
   "metadata": {},
   "outputs": [
    {
     "name": "stdout",
     "output_type": "stream",
     "text": [
      "Faculdade\n"
     ]
    }
   ],
   "source": [
    "print(lista[1][0])\n"
   ]
  },
  {
   "cell_type": "markdown",
   "metadata": {},
   "source": [
    "Explicação:\n",
    "\n",
    "Ao printarmos a lista, usamos entre colchetes os valores [1] e [0]. O número 1 significa que queremos acessar o segundo elemento da lista (índice 1 - corresponde ao segundo elemento, que nesse caso é a lista ['Faculdade', 'Senac']). Após isso, usamos o índice [0] para acessarmos a o primeiro elemento da lista interna ['Faculdade', 'Senac'].\n",
    "\n",
    "Para facilitar a visualização, iremos criar uma sublista, que irá retornar o segundo elemento da lista princial:"
   ]
  },
  {
   "cell_type": "code",
   "execution_count": 12,
   "metadata": {},
   "outputs": [
    {
     "name": "stdout",
     "output_type": "stream",
     "text": [
      "['Faculdade', 'Senac']\n",
      "Faculdade\n"
     ]
    }
   ],
   "source": [
    "subitem = lista[1] # verifica o segundo elemento da lista [índice 1]\n",
    "print(subitem) # printa os elementos que estão no segundo elemento da lista principal\n",
    "print(subitem[0]) # printa o primeiro elemento da sublista que criamos"
   ]
  },
  {
   "cell_type": "markdown",
   "metadata": {},
   "source": [
    "## Fatiando uma lista *(slicing)*\n",
    "\n",
    "O fatiamento de listas, do inglês slicing, é a extração de um conjunto de elementos contidos numa lista. Ele é feito da seguinte forma:\n",
    "\n",
    "```\n",
    "lista[inicio : fim : passo]\n",
    "```\n",
    "\n",
    "Explicando cada elemento:\n",
    "\n",
    "- início se refere ao índice de início do fatiamento.\n",
    "- fim se refere ao índice final do fatiamento. A lista final não vai conter esse elemento.\n",
    "- passo é um parâmetro opcional e é utilizado para se pular elementos da lista original\n",
    "\n",
    "Vamos entender melhor em seguida!\n",
    "\n",
    "Se quisermos criar uma fatia de uma lista do índice 2 ao 4, podemos fazer da seguinte forma:"
   ]
  },
  {
   "cell_type": "code",
   "execution_count": 1,
   "metadata": {},
   "outputs": [
    {
     "name": "stdout",
     "output_type": "stream",
     "text": [
      "[30, 40, 50]\n"
     ]
    }
   ],
   "source": [
    "lista = [10, 20, 30, 40, 50, 60]\n",
    "\n",
    "print(lista[2:5])"
   ]
  },
  {
   "cell_type": "markdown",
   "metadata": {},
   "source": [
    "## Percorrendo listas\n",
    "\n",
    "A forma mais comum de percorrer os elementos em uma lista é com um loop for elemento in lista, assim:"
   ]
  },
  {
   "cell_type": "code",
   "execution_count": 2,
   "metadata": {},
   "outputs": [
    {
     "name": "stdout",
     "output_type": "stream",
     "text": [
      "10\n",
      "20\n",
      "30\n",
      "40\n",
      "50\n",
      "60\n"
     ]
    }
   ],
   "source": [
    "lista = [10, 20, 30, 40, 50, 60]\n",
    "\n",
    "for numero in lista:\n",
    "    print(numero)\n"
   ]
  },
  {
   "cell_type": "markdown",
   "metadata": {},
   "source": [
    "Com a função enumerate( ) podemos percorrer também o índice referente a cada valor da lista:"
   ]
  },
  {
   "cell_type": "code",
   "execution_count": 3,
   "metadata": {},
   "outputs": [
    {
     "name": "stdout",
     "output_type": "stream",
     "text": [
      "índice=0, valor=10\n",
      "índice=1, valor=20\n",
      "índice=2, valor=30\n",
      "índice=3, valor=40\n",
      "índice=4, valor=50\n",
      "índice=5, valor=60\n"
     ]
    }
   ],
   "source": [
    "lista = [10, 20, 30, 40, 50, 60]\n",
    "\n",
    "for indice, valor in enumerate(lista):\n",
    "    print(f'índice={indice}, valor={valor}')"
   ]
  },
  {
   "cell_type": "markdown",
   "metadata": {},
   "source": [
    "A função enumerate(iterável, start=0) possui dois parâmetros:<br>\n",
    "iterável - qualquer valor iterável, nesse caso, nossa lista<br>\n",
    "start=0 - informa que o primeiro índice é o índice 0 (zero) por padrão.<br>\n",
    "Caso queiramos que a contagem comece a partir no número 1, podemos informar start=1.<br>\n",
    "Caso a gente não informe o parâmtro start, a função sempre reconhecerá o padrão 0 (zero)."
   ]
  },
  {
   "cell_type": "markdown",
   "metadata": {},
   "source": [
    "## Métodos para manipulação de listas\n",
    "\n",
    "O Python tem vários métodos disponíveis em listas que nos permite manipulá-las.\n",
    "\n",
    "Veremos agora quais são os métodos e como utilizá-los!"
   ]
  }
 ],
 "metadata": {
  "kernelspec": {
   "display_name": "Python 3",
   "language": "python",
   "name": "python3"
  },
  "language_info": {
   "codemirror_mode": {
    "name": "ipython",
    "version": 3
   },
   "file_extension": ".py",
   "mimetype": "text/x-python",
   "name": "python",
   "nbconvert_exporter": "python",
   "pygments_lexer": "ipython3",
   "version": "3.12.5"
  }
 },
 "nbformat": 4,
 "nbformat_minor": 2
}
