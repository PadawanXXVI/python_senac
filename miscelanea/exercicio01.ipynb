{
 "cells": [
  {
   "cell_type": "markdown",
   "metadata": {},
   "source": [
    "# Resolução da primeira lista de exercício\n",
    "\n",
    "1. Escreva um programa que receba uma lista de 10 inteiros via teclado, em seguida, o programa deve solicitar um número e informar se o número também está na lista ou não."
   ]
  },
  {
   "cell_type": "code",
   "execution_count": 16,
   "metadata": {},
   "outputs": [
    {
     "name": "stdout",
     "output_type": "stream",
     "text": [
      "O número 11 não está na lista [1, 2, 3, 4, 5, 6, 7, 8, 9, 10]\n"
     ]
    }
   ],
   "source": [
    "numeros = list()\n",
    "\n",
    "\n",
    "for i in range(1, 11):\n",
    "    numero=int(input(f'Informe o {i}º número:\\n'))\n",
    "    numeros.append(numero)\n",
    "\n",
    "numero = int(input('Informe o número que deseja verificar se está na lista:\\n'))\n",
    "\n",
    "if numero in numeros:\n",
    "    print(f'O número {numero} está na lista {numeros}')\n",
    "else:\n",
    "    print(f'O número {numero} não está na lista {numeros}')\n"
   ]
  },
  {
   "cell_type": "markdown",
   "metadata": {},
   "source": [
    "2. Escreva um programa que leia e mostre uma lista de 10 elementos inteiros. Em seguida, conte quantos valores pares existem na lista, por fim, exiba a quantidade."
   ]
  },
  {
   "cell_type": "code",
   "execution_count": 17,
   "metadata": {},
   "outputs": [
    {
     "name": "stdout",
     "output_type": "stream",
     "text": [
      "Lista de números: [1, 2, 3, 4, 5, 6, 7, 8, 9, 10]\n",
      "A quantidade de números pares é: 5\n"
     ]
    }
   ],
   "source": [
    "numeros2 = list()\n",
    "\n",
    "for i in range(1,11):\n",
    "    numero2 = int(input(f'Informe o número {i}: '))\n",
    "    numeros2.append(numero2)\n",
    "print(f'Lista de números: {numeros2}')\n",
    "\n",
    "pares = 0\n",
    "\n",
    "for numero in numeros2:\n",
    "    if numero % 2 == 0:\n",
    "        pares += 1\n",
    "\n",
    "print(f'A quantidade de números pares é: {pares}')"
   ]
  },
  {
   "cell_type": "markdown",
   "metadata": {},
   "source": [
    "3. Faça um programa que inicialize uma lista de compras com 5 itens diferentes e exiba todos utilizando um laço de repetição."
   ]
  },
  {
   "cell_type": "code",
   "execution_count": 18,
   "metadata": {},
   "outputs": [
    {
     "name": "stdout",
     "output_type": "stream",
     "text": [
      "frutas\n",
      "pão\n",
      "queijo\n",
      "azeite\n",
      "frango\n"
     ]
    }
   ],
   "source": [
    "compras = ['frutas', 'pão', 'queijo', 'azeite', 'frango']\n",
    "\n",
    "for item in compras:\n",
    "    print(item)"
   ]
  },
  {
   "cell_type": "markdown",
   "metadata": {},
   "source": [
    "4. Faça um programa que inicialize uma lista vazia e solicite ao usuário 3 nomes de cidades, uma por vez, cada vez que o usuário digitar um nome, o programa deve incluir este nome na lista de cidades."
   ]
  },
  {
   "cell_type": "code",
   "execution_count": 19,
   "metadata": {},
   "outputs": [
    {
     "name": "stdout",
     "output_type": "stream",
     "text": [
      "['São Paulo', 'Brasília', 'Rio de Janeiro']\n"
     ]
    }
   ],
   "source": [
    "cidades = list()\n",
    "\n",
    "for cidade in range(1,4):\n",
    "    cidade = input(f'Informe a {cidade}ª cidade:\\n')\n",
    "    cidades.append(cidade)\n",
    "\n",
    "print(cidades)"
   ]
  },
  {
   "cell_type": "markdown",
   "metadata": {},
   "source": [
    "5. Faça um programa que inicialize um lista com vários números diferentes, depois disso, solicite ao usuário um número e verifique se o número está ou não na lista e exiba uma mensagem notificando o usuário do resultado."
   ]
  },
  {
   "cell_type": "code",
   "execution_count": 20,
   "metadata": {},
   "outputs": [
    {
     "name": "stdout",
     "output_type": "stream",
     "text": [
      "O número 12 não está na lista [1, 45, 56, 190, 233, 478, 5079, 33, 44, 410, 88, 30, 15]\n"
     ]
    }
   ],
   "source": [
    "verifica_numeros = [1, 45, 56, 190, 233, 478, 5079, 33, 44, 410, 88, 30, 15]\n",
    "\n",
    "escolha = int(input('Informe um número para verificação:\\n'))\n",
    "\n",
    "if escolha in verifica_numeros:\n",
    "    print(f'O número {escolha} está na lista {verifica_numeros}')\n",
    "else:\n",
    "    print(f'O número {escolha} não está na lista {verifica_numeros}')"
   ]
  },
  {
   "cell_type": "markdown",
   "metadata": {},
   "source": [
    "6. Faça um programa que inicialize uma lista vazia e a preencha com 5 nomes diferentes digitados pelo usuário, depois disso, solicite um número de 0 a 4 e remova o nome desta posição"
   ]
  },
  {
   "cell_type": "code",
   "execution_count": 23,
   "metadata": {},
   "outputs": [
    {
     "name": "stdout",
     "output_type": "stream",
     "text": [
      "Sua lista contém os nomes: ['Ana', 'Maria', 'Joana', 'Cristina', 'Josefina']\n",
      "Você removeu o nome Maria\n",
      "A lista agora é: ['Ana', 'Joana', 'Cristina', 'Josefina']\n"
     ]
    }
   ],
   "source": [
    "nomes = list()\n",
    "\n",
    "for i in range(5):\n",
    "    nome = input(f'Informe o {i+1}º nome:\\n')\n",
    "    nomes.append(nome)\n",
    "\n",
    "print(f'Sua lista contém os nomes: {nomes}')\n",
    "\n",
    "indice = int(input('Escolha um número de 0 a 4: '))\n",
    "\n",
    "print(f'Você removeu o nome {nomes.pop(indice)}')\n",
    "print(f'A lista agora é: {nomes}')"
   ]
  },
  {
   "cell_type": "markdown",
   "metadata": {},
   "source": [
    "7. Ler uma lista de 10 números reais e mostre-os na ordem inversa"
   ]
  },
  {
   "cell_type": "code",
   "execution_count": 22,
   "metadata": {},
   "outputs": [
    {
     "name": "stdout",
     "output_type": "stream",
     "text": [
      "[1373, 458, -159.34, 14.37, 12, -33.5, -1.67, 44.38, 2.2, 1.5]\n",
      "ou\n",
      "[1373, 458, -159.34, 14.37, 12, -33.5, -1.67, 44.38, 2.2, 1.5]\n"
     ]
    }
   ],
   "source": [
    "reais = [1.5, 2.2, 44.38, -1.67, -33.5, 12, 14.37, -159.34, 458, 1373]\n",
    "print(reais[::-1])\n",
    "print('ou')\n",
    "reais.reverse()\n",
    "print(reais)"
   ]
  },
  {
   "cell_type": "markdown",
   "metadata": {},
   "source": [
    "8. Ler uma lista de 5 números inteiros e mostre cada número juntamente com a sua posição na lista"
   ]
  },
  {
   "cell_type": "code",
   "execution_count": 24,
   "metadata": {},
   "outputs": [
    {
     "name": "stdout",
     "output_type": "stream",
     "text": [
      "O número 12 está na posição 0 da lista.\n",
      "O número 33 está na posição 1 da lista.\n",
      "O número -15 está na posição 2 da lista.\n",
      "O número -125 está na posição 3 da lista.\n",
      "O número 48 está na posição 4 da lista.\n"
     ]
    }
   ],
   "source": [
    "inteiros = [12, 33, -15, -125, 48]\n",
    "\n",
    "for indice, numero in enumerate(inteiros):\n",
    "    print(f'O número {numero} está na posição {indice} da lista.')\n",
    " "
   ]
  }
 ],
 "metadata": {
  "kernelspec": {
   "display_name": "venv",
   "language": "python",
   "name": "python3"
  },
  "language_info": {
   "codemirror_mode": {
    "name": "ipython",
    "version": 3
   },
   "file_extension": ".py",
   "mimetype": "text/x-python",
   "name": "python",
   "nbconvert_exporter": "python",
   "pygments_lexer": "ipython3",
   "version": "3.12.5"
  }
 },
 "nbformat": 4,
 "nbformat_minor": 2
}
